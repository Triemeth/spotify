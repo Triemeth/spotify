{
 "cells": [
  {
   "cell_type": "code",
   "execution_count": 8,
   "id": "757d8ae7",
   "metadata": {},
   "outputs": [],
   "source": [
    "from sqlalchemy import create_engine\n",
    "import os\n",
    "from dotenv import load_dotenv\n",
    "from pathlib import Path\n",
    "import pandas as pd\n",
    "import matplotlib.pyplot as plt\n",
    "from ast import literal_eval\n",
    "from collections import Counter\n",
    "import datetime"
   ]
  },
  {
   "cell_type": "code",
   "execution_count": 9,
   "id": "84d4d9c2",
   "metadata": {},
   "outputs": [],
   "source": [
    "load_dotenv(dotenv_path=Path(r\"C:\\Users\\EJTri\\Documents\\spotify\\eda\\eda_with_sql.ipynb\").resolve().parent.parent / \".env\")\n",
    "\n",
    "db_user = os.getenv(\"POSTGRES_USER\")\n",
    "db_pass = os.getenv(\"POSTGRES_PASSWORD\")\n",
    "db_host = os.getenv(\"POSTGRES_HOST\")\n",
    "db_port = os.getenv(\"POSTGRES_PORT\")\n",
    "db_name = os.getenv(\"POSTGRES_DB\")\n",
    "\n",
    "engine = create_engine(f\"postgresql+psycopg2://{db_user}:{db_pass}@{db_host}:{db_port}/{db_name}\")"
   ]
  },
  {
   "cell_type": "code",
   "execution_count": null,
   "id": "5473b16d",
   "metadata": {},
   "outputs": [
    {
     "name": "stdout",
     "output_type": "stream",
     "text": [
      "                                        artist_genre\n",
      "0                     {hardcore,deathcore,metalcore}\n",
      "1  {\"outlaw country\",\"alt country\",bluegrass,amer...\n",
      "2      {\"midwest emo\",emo,post-hardcore,\"math rock\"}\n",
      "3                              {ska,\"ska punk\",punk}\n",
      "4                   {\"art rock\",post-rock,post-punk}\n"
     ]
    },
    {
     "data": {
      "text/plain": [
       "'all_track_genres[\"artist_genre\"] = all_track_genres[\"artist_genre\"].apply(literal_eval)\\n\\nlist_genres_in_all_tracks = []\\n\\nfor i in range(0, len(all_track_genres)):\\n  list_genres_in_all_tracks = list_genres_in_all_tracks + all_track_genres.iloc[i][\"artist_genre\"]\\n\\ncount_genres = Counter(list_genres_in_all_tracks)'"
      ]
     },
     "execution_count": 19,
     "metadata": {},
     "output_type": "execute_result"
    }
   ],
   "source": [
    "all_track_genres = pd.read_sql(\"SELECT artist_genre FROM all_tracks_saved\", engine)"
   ]
  }
 ],
 "metadata": {
  "kernelspec": {
   "display_name": "Python 3",
   "language": "python",
   "name": "python3"
  },
  "language_info": {
   "codemirror_mode": {
    "name": "ipython",
    "version": 3
   },
   "file_extension": ".py",
   "mimetype": "text/x-python",
   "name": "python",
   "nbconvert_exporter": "python",
   "pygments_lexer": "ipython3",
   "version": "3.12.3"
  }
 },
 "nbformat": 4,
 "nbformat_minor": 5
}
